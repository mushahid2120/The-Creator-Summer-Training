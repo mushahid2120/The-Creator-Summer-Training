{
 "cells": [
  {
   "cell_type": "code",
   "execution_count": 36,
   "id": "4d4ba453-0b96-4a90-8909-5bdedb26c595",
   "metadata": {},
   "outputs": [],
   "source": [
    "exp=1"
   ]
  },
  {
   "cell_type": "code",
   "execution_count": 37,
   "id": "cd23a26d-ba85-4548-a206-2dd6ca43a580",
   "metadata": {},
   "outputs": [
    {
     "name": "stdout",
     "output_type": "stream",
     "text": [
      "no job\n"
     ]
    }
   ],
   "source": [
    "(exp>2 or print(\"no job\")) and print(\"will job\")"
   ]
  },
  {
   "cell_type": "code",
   "execution_count": null,
   "id": "fc54a576-2023-4268-943a-bff878126ca7",
   "metadata": {},
   "outputs": [],
   "source": []
  },
  {
   "cell_type": "code",
   "execution_count": null,
   "id": "3064b965-d835-46eb-8e3b-beef552a5fc1",
   "metadata": {},
   "outputs": [],
   "source": []
  }
 ],
 "metadata": {
  "kernelspec": {
   "display_name": "Python 3 (ipykernel)",
   "language": "python",
   "name": "python3"
  },
  "language_info": {
   "codemirror_mode": {
    "name": "ipython",
    "version": 3
   },
   "file_extension": ".py",
   "mimetype": "text/x-python",
   "name": "python",
   "nbconvert_exporter": "python",
   "pygments_lexer": "ipython3",
   "version": "3.12.4"
  }
 },
 "nbformat": 4,
 "nbformat_minor": 5
}
