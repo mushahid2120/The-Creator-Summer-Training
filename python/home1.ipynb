{
 "cells": [
  {
   "cell_type": "code",
   "execution_count": 1,
   "id": "384c2897-8878-468b-b26f-b06a8fdb464f",
   "metadata": {},
   "outputs": [],
   "source": [
    "student =[\n",
    "            [\"Rahul\",34434,\"Jaipur\"],\n",
    "            [\"Rohit\",3232,\"Ranchi\"],\n",
    "            [\"Raju\",322311,\"Patna\"]\n",
    "]"
   ]
  },
  {
   "cell_type": "code",
   "execution_count": 2,
   "id": "549ee747-dbe3-433f-9214-00c4bba5e321",
   "metadata": {},
   "outputs": [
    {
     "data": {
      "text/plain": [
       "[['Rahul', 34434, 'Jaipur'],\n",
       " ['Rohit', 3232, 'Ranchi'],\n",
       " ['Raju', 322311, 'Patna']]"
      ]
     },
     "execution_count": 2,
     "metadata": {},
     "output_type": "execute_result"
    }
   ],
   "source": [
    "student\n"
   ]
  },
  {
   "cell_type": "code",
   "execution_count": 3,
   "id": "6b4ed822-5105-4d0a-b402-054fae0de01d",
   "metadata": {},
   "outputs": [],
   "source": [
    ")"
   ]
  },
  {
   "cell_type": "code",
   "execution_count": 4,
   "id": "6138b9ca-9e7d-475d-ad52-8372e250464e",
   "metadata": {},
   "outputs": [],
   "source": [
    "lwst=numpy.array(student)"
   ]
  },
  {
   "cell_type": "code",
   "execution_count": 5,
   "id": "f94252ac-4f39-4849-b088-9af2576ad331",
   "metadata": {},
   "outputs": [
    {
     "data": {
      "text/plain": [
       "array([['Rahul', '34434', 'Jaipur'],\n",
       "       ['Rohit', '3232', 'Ranchi'],\n",
       "       ['Raju', '322311', 'Patna']], dtype='<U11')"
      ]
     },
     "execution_count": 5,
     "metadata": {},
     "output_type": "execute_result"
    }
   ],
   "source": [
    "lwst\n"
   ]
  },
  {
   "cell_type": "code",
   "execution_count": 7,
   "id": "2325f588-95ae-438f-8bd4-a1094233679d",
   "metadata": {},
   "outputs": [
    {
     "data": {
      "text/plain": [
       "'Ranchi'"
      ]
     },
     "execution_count": 7,
     "metadata": {},
     "output_type": "execute_result"
    }
   ],
   "source": [
    "lwst[1][2]"
   ]
  },
  {
   "cell_type": "code",
   "execution_count": 9,
   "id": "08067335-c7fb-4be8-9f32-eb2d9017e6bb",
   "metadata": {},
   "outputs": [
    {
     "data": {
      "text/plain": [
       "array([['34434'],\n",
       "       ['3232'],\n",
       "       ['322311']], dtype='<U11')"
      ]
     },
     "execution_count": 9,
     "metadata": {},
     "output_type": "execute_result"
    }
   ],
   "source": [
    "lwst[:,1:2]"
   ]
  },
  {
   "cell_type": "code",
   "execution_count": 10,
   "id": "82fd356b-3d29-40ae-b0fe-0c9606653a09",
   "metadata": {},
   "outputs": [],
   "source": [
    "import os"
   ]
  },
  {
   "cell_type": "code",
   "execution_count": 11,
   "id": "f67850ec-519c-4c6f-831a-3aca11fafdf6",
   "metadata": {},
   "outputs": [
    {
     "data": {
      "text/plain": [
       "0"
      ]
     },
     "execution_count": 11,
     "metadata": {},
     "output_type": "execute_result"
    }
   ],
   "source": [
    "os.system(\"notepad\")"
   ]
  },
  {
   "cell_type": "code",
   "execution_count": 12,
   "id": "d6e19497-de33-4c81-9cd4-61803e9bd125",
   "metadata": {},
   "outputs": [
    {
     "ename": "ModuleNotFoundError",
     "evalue": "No module named 'CV2'",
     "output_type": "error",
     "traceback": [
      "\u001b[1;31m---------------------------------------------------------------------------\u001b[0m",
      "\u001b[1;31mModuleNotFoundError\u001b[0m                       Traceback (most recent call last)",
      "Cell \u001b[1;32mIn[12], line 1\u001b[0m\n\u001b[1;32m----> 1\u001b[0m \u001b[38;5;28;01mimport\u001b[39;00m \u001b[38;5;21;01mCV2\u001b[39;00m\n",
      "\u001b[1;31mModuleNotFoundError\u001b[0m: No module named 'CV2'"
     ]
    }
   ],
   "source": [
    "import CV2\n"
   ]
  },
  {
   "cell_type": "code",
   "execution_count": 13,
   "id": "d058e328-ed9d-4253-a4df-e5cf43dc7d63",
   "metadata": {},
   "outputs": [],
   "source": [
    "import cv2\n"
   ]
  },
  {
   "cell_type": "code",
   "execution_count": null,
   "id": "3b7be134-8838-4e29-bcda-d4f4d64112cc",
   "metadata": {},
   "outputs": [],
   "source": []
  },
  {
   "cell_type": "code",
   "execution_count": 15,
   "id": "f4d1febb-a8d5-4efc-9b2d-664c9980f38d",
   "metadata": {},
   "outputs": [],
   "source": [
    "cap=cv2.VideoCapture(0)"
   ]
  },
  {
   "cell_type": "code",
   "execution_count": 17,
   "id": "e386fdf7-6684-4501-863e-a7cd44ed7509",
   "metadata": {},
   "outputs": [],
   "source": [
    "status,photo=cap.read()"
   ]
  },
  {
   "cell_type": "code",
   "execution_count": 18,
   "id": "3cd4ef1c-b2bd-4db1-a64f-9658de443e4f",
   "metadata": {},
   "outputs": [
    {
     "data": {
      "text/plain": [
       "True"
      ]
     },
     "execution_count": 18,
     "metadata": {},
     "output_type": "execute_result"
    }
   ],
   "source": [
    "cv2.imwrite(\"Mushahid.png\",photo)"
   ]
  },
  {
   "cell_type": "code",
   "execution_count": 21,
   "id": "40ac8c65-5edf-44f0-9246-be2815296f33",
   "metadata": {},
   "outputs": [],
   "source": [
    "cap.release()\n",
    "\n",
    "\n"
   ]
  },
  {
   "cell_type": "code",
   "execution_count": 22,
   "id": "2f4eee27-f6ef-4e1b-b633-5f6939282d54",
   "metadata": {},
   "outputs": [],
   "source": [
    "cap=cv2.VideoCapture(0)"
   ]
  },
  {
   "cell_type": "code",
   "execution_count": 23,
   "id": "ede146df-a49f-41c4-8eb0-90edb72d204a",
   "metadata": {},
   "outputs": [],
   "source": [
    "status,photo=cap.read()"
   ]
  },
  {
   "cell_type": "code",
   "execution_count": 26,
   "id": "d9e3d15e-229b-43d6-a027-ed5e6360c3c8",
   "metadata": {},
   "outputs": [
    {
     "data": {
      "text/plain": [
       "True"
      ]
     },
     "execution_count": 26,
     "metadata": {},
     "output_type": "execute_result"
    }
   ],
   "source": [
    "cv2.imwrite(\"demo.png\",photo)"
   ]
  },
  {
   "cell_type": "code",
   "execution_count": 27,
   "id": "560d5c67-d6cd-4d38-a6df-69b9b650d17d",
   "metadata": {},
   "outputs": [],
   "source": [
    "cap.release()"
   ]
  },
  {
   "cell_type": "code",
   "execution_count": 28,
   "id": "491dfcd4-96b0-4445-9787-7e08af90d240",
   "metadata": {},
   "outputs": [],
   "source": [
    "exit()\n"
   ]
  },
  {
   "cell_type": "code",
   "execution_count": null,
   "id": "2887022e-03ff-4607-ab2e-a6d54eb209bb",
   "metadata": {},
   "outputs": [],
   "source": [
    "df"
   ]
  },
  {
   "cell_type": "code",
   "execution_count": 2,
   "id": "527c98f9-e43c-466e-aa2f-19a4e9e1a50e",
   "metadata": {},
   "outputs": [
    {
     "ename": "NameError",
     "evalue": "name 'df' is not defined",
     "output_type": "error",
     "traceback": [
      "\u001b[1;31m---------------------------------------------------------------------------\u001b[0m",
      "\u001b[1;31mNameError\u001b[0m                                 Traceback (most recent call last)",
      "Cell \u001b[1;32mIn[2], line 1\u001b[0m\n\u001b[1;32m----> 1\u001b[0m df\n",
      "\u001b[1;31mNameError\u001b[0m: name 'df' is not defined"
     ]
    }
   ],
   "source": [
    "df"
   ]
  },
  {
   "cell_type": "code",
   "execution_count": 3,
   "id": "58c89a7f-5a16-49b7-90c6-fb291cfce7de",
   "metadata": {},
   "outputs": [],
   "source": [
    "import pywhatkit\n"
   ]
  },
  {
   "cell_type": "code",
   "execution_count": 5,
   "id": "592ce453-fd90-4435-91ba-ffe8442389d0",
   "metadata": {},
   "outputs": [],
   "source": [
    "pywhatkit.sendwhatmsg_instantly(\"+919667282651\",\"Hello bro\")"
   ]
  },
  {
   "cell_type": "code",
   "execution_count": 6,
   "id": "b08035e6-f710-4c0c-98c3-ac33f23802de",
   "metadata": {},
   "outputs": [
    {
     "name": "stdout",
     "output_type": "stream",
     "text": [
      "Date: 2/7/2024\n",
      "Time: 1:2\n",
      "Phone Number: +919667282651\n",
      "Message: Hello bro\n",
      "--------------------\n",
      "\n"
     ]
    }
   ],
   "source": [
    "pywhatkit.show_history()"
   ]
  },
  {
   "cell_type": "code",
   "execution_count": 7,
   "id": "7b05c120-e033-4cde-be73-fd0be0d5ea54",
   "metadata": {},
   "outputs": [
    {
     "name": "stdout",
     "output_type": "stream",
     "text": [
      "In 0 Seconds WhatsApp will open and after 10 Seconds Message will be Delivered!\n"
     ]
    }
   ],
   "source": [
    "        pywhatkit.sendwhatmsg(\"+919667282651\",\"hello bro\",1,8,10,True,5)"
   ]
  },
  {
   "cell_type": "code",
   "execution_count": 2,
   "id": "d68769fd-71f9-410d-a4df-01e557c90368",
   "metadata": {},
   "outputs": [
    {
     "ename": "NameError",
     "evalue": "name 'pywhatkit' is not defined",
     "output_type": "error",
     "traceback": [
      "\u001b[1;31m---------------------------------------------------------------------------\u001b[0m",
      "\u001b[1;31mNameError\u001b[0m                                 Traceback (most recent call last)",
      "Cell \u001b[1;32mIn[2], line 1\u001b[0m\n\u001b[1;32m----> 1\u001b[0m help(pywhatkit)\n",
      "\u001b[1;31mNameError\u001b[0m: name 'pywhatkit' is not defined"
     ]
    }
   ],
   "source": [
    "help(pywhatkit)"
   ]
  },
  {
   "cell_type": "code",
   "execution_count": 4,
   "id": "c964759a-9360-43a7-9b75-dd635533fd89",
   "metadata": {},
   "outputs": [],
   "source": [
    "import pywhatkit"
   ]
  },
  {
   "cell_type": "code",
   "execution_count": 5,
   "id": "60b405bd-c1e8-404c-88a9-8a0fbab6ef78",
   "metadata": {},
   "outputs": [
    {
     "name": "stdout",
     "output_type": "stream",
     "text": [
      "Help on package pywhatkit:\n",
      "\n",
      "NAME\n",
      "    pywhatkit\n",
      "\n",
      "DESCRIPTION\n",
      "    # Version 5.2\n",
      "    # Status: Stable\n",
      "    # Documentation: https://github.com/Ankit404butfound/PyWhatKit/wiki\n",
      "    # Report Bugs and Feature Requests here: https://github.com/Ankit404butfound/PyWhatKit/issues\n",
      "    # For further Information, Join our Discord: https://discord.gg/62Yf5mushu\n",
      "\n",
      "PACKAGE CONTENTS\n",
      "    ascii_art\n",
      "    core (package)\n",
      "    handwriting\n",
      "    mail\n",
      "    misc\n",
      "    remotekit\n",
      "    sc\n",
      "    whats\n",
      "\n",
      "DATA\n",
      "    __VERSION__ = 'Version 5.3 (Stable)'\n",
      "\n",
      "FILE\n",
      "    c:\\users\\saba ahmad\\anacoda3\\lib\\site-packages\\pywhatkit\\__init__.py\n",
      "\n",
      "\n"
     ]
    }
   ],
   "source": [
    "help(pywhatkit)"
   ]
  },
  {
   "cell_type": "code",
   "execution_count": 6,
   "id": "a36e7829-73d9-40f3-bb70-92e1a0abfe97",
   "metadata": {},
   "outputs": [
    {
     "name": "stdout",
     "output_type": "stream",
     "text": [
      "Help on module pywhatkit.whats in pywhatkit:\n",
      "\n",
      "NAME\n",
      "    pywhatkit.whats\n",
      "\n",
      "FUNCTIONS\n",
      "    open_web() -> bool\n",
      "        Opens WhatsApp Web\n",
      "\n",
      "    sendwhatmsg(phone_no: str, message: str, time_hour: int, time_min: int, wait_time: int = 15, tab_close: bool = False, close_time: int = 3) -> None\n",
      "        Send a WhatsApp Message at a Certain Time\n",
      "\n",
      "    sendwhatmsg_instantly(phone_no: str, message: str, wait_time: int = 15, tab_close: bool = False, close_time: int = 3) -> None\n",
      "        Send WhatsApp Message Instantly\n",
      "\n",
      "    sendwhatmsg_to_group(group_id: str, message: str, time_hour: int, time_min: int, wait_time: int = 15, tab_close: bool = False, close_time: int = 3) -> None\n",
      "        Send WhatsApp Message to a Group at a Certain Time\n",
      "\n",
      "    sendwhatmsg_to_group_instantly(group_id: str, message: str, wait_time: int = 15, tab_close: bool = False, close_time: int = 3) -> None\n",
      "        Send WhatsApp Message to a Group Instantly\n",
      "\n",
      "    sendwhats_image(receiver: str, img_path: str, caption: str = '', wait_time: int = 15, tab_close: bool = False, close_time: int = 3) -> None\n",
      "        Send Image to a WhatsApp Contact or Group at a Certain Time\n",
      "\n",
      "DATA\n",
      "    Optional = typing.Optional\n",
      "        Optional[X] is equivalent to Union[X, None].\n",
      "\n",
      "FILE\n",
      "    c:\\users\\saba ahmad\\anacoda3\\lib\\site-packages\\pywhatkit\\whats.py\n",
      "\n",
      "\n"
     ]
    }
   ],
   "source": [
    "help(pywhatkit.whats)"
   ]
  },
  {
   "cell_type": "code",
   "execution_count": 7,
   "id": "df3da536-88f3-466c-b88a-ef9b4ba72697",
   "metadata": {},
   "outputs": [
    {
     "ename": "TypeError",
     "evalue": "sendwhatmsg() missing 2 required positional arguments: 'time_hour' and 'time_min'",
     "output_type": "error",
     "traceback": [
      "\u001b[1;31m---------------------------------------------------------------------------\u001b[0m",
      "\u001b[1;31mTypeError\u001b[0m                                 Traceback (most recent call last)",
      "Cell \u001b[1;32mIn[7], line 1\u001b[0m\n\u001b[1;32m----> 1\u001b[0m pywhatkit\u001b[38;5;241m.\u001b[39msendwhatmsg(\u001b[38;5;124m\"\u001b[39m\u001b[38;5;124m+919667282651\u001b[39m\u001b[38;5;124m\"\u001b[39m,\u001b[38;5;124m\"\u001b[39m\u001b[38;5;124mHello Bro\u001b[39m\u001b[38;5;124m\"\u001b[39m)\n",
      "\u001b[1;31mTypeError\u001b[0m: sendwhatmsg() missing 2 required positional arguments: 'time_hour' and 'time_min'"
     ]
    }
   ],
   "source": [
    "pywhatkit.sendwhatmsg(\"+919667282651\",\"Hello Bro\")"
   ]
  },
  {
   "cell_type": "code",
   "execution_count": 8,
   "id": "d3e06339-9ad3-43af-b7ad-93df54d9918e",
   "metadata": {},
   "outputs": [],
   "source": [
    "pywhatkit.sendwhatmsg_instantly(\"+919667282651\",\"Hello Bro\")"
   ]
  },
  {
   "cell_type": "code",
   "execution_count": null,
   "id": "9769a832-b438-4a9d-b70e-560897dcb1e8",
   "metadata": {},
   "outputs": [],
   "source": []
  }
 ],
 "metadata": {
  "kernelspec": {
   "display_name": "Python 3 (ipykernel)",
   "language": "python",
   "name": "python3"
  },
  "language_info": {
   "codemirror_mode": {
    "name": "ipython",
    "version": 3
   },
   "file_extension": ".py",
   "mimetype": "text/x-python",
   "name": "python",
   "nbconvert_exporter": "python",
   "pygments_lexer": "ipython3",
   "version": "3.12.4"
  }
 },
 "nbformat": 4,
 "nbformat_minor": 5
}
