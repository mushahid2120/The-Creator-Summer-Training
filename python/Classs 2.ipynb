{
 "cells": [
  {
   "cell_type": "code",
   "execution_count": 1,
   "id": "f5db0659-b45c-4605-bcef-cb05d29e2171",
   "metadata": {},
   "outputs": [],
   "source": [
    "import pywhatkit\n"
   ]
  },
  {
   "cell_type": "code",
   "execution_count": 2,
   "id": "69c2b1a0-e03f-40b0-b619-739112a55092",
   "metadata": {},
   "outputs": [],
   "source": [
    "pywhatkit.sendwhatmsg_instantly(\"+919667282651\",\"Welcome\")"
   ]
  },
  {
   "cell_type": "code",
   "execution_count": 1,
   "id": "e0e0799a-c00e-451e-9c50-e0350a6117f1",
   "metadata": {},
   "outputs": [],
   "source": [
    "import requests"
   ]
  },
  {
   "cell_type": "code",
   "execution_count": 2,
   "id": "814239a4-cee5-43ed-abe6-9c875d4a4691",
   "metadata": {},
   "outputs": [
    {
     "name": "stdout",
     "output_type": "stream",
     "text": [
      "Help on package requests:\n",
      "\n",
      "NAME\n",
      "    requests\n",
      "\n",
      "DESCRIPTION\n",
      "    Requests HTTP Library\n",
      "    ~~~~~~~~~~~~~~~~~~~~~\n",
      "\n",
      "    Requests is an HTTP library, written in Python, for human beings.\n",
      "    Basic GET usage:\n",
      "\n",
      "       >>> import requests\n",
      "       >>> r = requests.get('https://www.python.org')\n",
      "       >>> r.status_code\n",
      "       200\n",
      "       >>> b'Python is a programming language' in r.content\n",
      "       True\n",
      "\n",
      "    ... or POST:\n",
      "\n",
      "       >>> payload = dict(key1='value1', key2='value2')\n",
      "       >>> r = requests.post('https://httpbin.org/post', data=payload)\n",
      "       >>> print(r.text)\n",
      "       {\n",
      "         ...\n",
      "         \"form\": {\n",
      "           \"key1\": \"value1\",\n",
      "           \"key2\": \"value2\"\n",
      "         },\n",
      "         ...\n",
      "       }\n",
      "\n",
      "    The other HTTP methods are supported - see `requests.api`. Full documentation\n",
      "    is at <https://requests.readthedocs.io>.\n",
      "\n",
      "    :copyright: (c) 2017 by Kenneth Reitz.\n",
      "    :license: Apache 2.0, see LICENSE for more details.\n",
      "\n",
      "PACKAGE CONTENTS\n",
      "    __version__\n",
      "    _internal_utils\n",
      "    adapters\n",
      "    api\n",
      "    auth\n",
      "    certs\n",
      "    compat\n",
      "    cookies\n",
      "    exceptions\n",
      "    help\n",
      "    hooks\n",
      "    models\n",
      "    packages\n",
      "    sessions\n",
      "    status_codes\n",
      "    structures\n",
      "    utils\n",
      "\n",
      "FUNCTIONS\n",
      "    check_compatibility(urllib3_version, chardet_version, charset_normalizer_version)\n",
      "\n",
      "DATA\n",
      "    __author_email__ = 'me@kennethreitz.org'\n",
      "    __build__ = 143874\n",
      "    __cake__ = '✨ 🍰 ✨'\n",
      "    __copyright__ = 'Copyright Kenneth Reitz'\n",
      "    __description__ = 'Python HTTP for Humans.'\n",
      "    __license__ = 'Apache-2.0'\n",
      "    __title__ = 'requests'\n",
      "    __url__ = 'https://requests.readthedocs.io'\n",
      "    chardet_version = '4.0.0'\n",
      "    charset_normalizer_version = '2.0.4'\n",
      "    codes = <lookup 'status_codes'>\n",
      "\n",
      "VERSION\n",
      "    2.32.2\n",
      "\n",
      "AUTHOR\n",
      "    Kenneth Reitz\n",
      "\n",
      "FILE\n",
      "    c:\\users\\saba ahmad\\anacoda3\\lib\\site-packages\\requests\\__init__.py\n",
      "\n",
      "\n"
     ]
    }
   ],
   "source": [
    "help(requests)"
   ]
  },
  {
   "cell_type": "code",
   "execution_count": 3,
   "id": "da2d2b65-883c-4d29-9f73-990cb5b1f69f",
   "metadata": {},
   "outputs": [
    {
     "ename": "ModuleNotFoundError",
     "evalue": "No module named 'Skype4Py'",
     "output_type": "error",
     "traceback": [
      "\u001b[1;31m---------------------------------------------------------------------------\u001b[0m",
      "\u001b[1;31mModuleNotFoundError\u001b[0m                       Traceback (most recent call last)",
      "Cell \u001b[1;32mIn[3], line 1\u001b[0m\n\u001b[1;32m----> 1\u001b[0m \u001b[38;5;28;01mimport\u001b[39;00m \u001b[38;5;21;01mSkype4Py\u001b[39;00m\n",
      "\u001b[1;31mModuleNotFoundError\u001b[0m: No module named 'Skype4Py'"
     ]
    }
   ],
   "source": [
    "import Skype4Py"
   ]
  },
  {
   "cell_type": "code",
   "execution_count": 6,
   "id": "5119335e-27d9-4d88-b4b7-0e37cbc9887b",
   "metadata": {},
   "outputs": [
    {
     "ename": "SyntaxError",
     "evalue": "invalid syntax. Perhaps you forgot a comma? (3183764219.py, line 1)",
     "output_type": "error",
     "traceback": [
      "\u001b[1;36m  Cell \u001b[1;32mIn[6], line 1\u001b[1;36m\u001b[0m\n\u001b[1;33m    if(True OR False):\u001b[0m\n\u001b[1;37m       ^\u001b[0m\n\u001b[1;31mSyntaxError\u001b[0m\u001b[1;31m:\u001b[0m invalid syntax. Perhaps you forgot a comma?\n"
     ]
    }
   ],
   "source": [
    "if():\n",
    "    print(\"linux\")\n",
    "else:\n",
    "    print(\"World\")"
   ]
  },
  {
   "cell_type": "code",
   "execution_count": 1,
   "id": "eb2984d4-de67-4c3d-b097-fd9837d00b39",
   "metadata": {},
   "outputs": [],
   "source": [
    "import cv2"
   ]
  },
  {
   "cell_type": "code",
   "execution_count": 2,
   "id": "cab59db5-9971-4e49-a16e-fb8091554ebf",
   "metadata": {},
   "outputs": [],
   "source": [
    "cap=cv2.VideoCapture(0)"
   ]
  },
  {
   "cell_type": "code",
   "execution_count": 3,
   "id": "bfbc4457-b31e-44de-babf-d13a49699c3f",
   "metadata": {},
   "outputs": [],
   "source": [
    "photo=cap.read()"
   ]
  },
  {
   "cell_type": "code",
   "execution_count": 5,
   "id": "0b82c446-bb67-4eb6-b9eb-c89176f05180",
   "metadata": {},
   "outputs": [
    {
     "data": {
      "text/plain": [
       "True"
      ]
     },
     "execution_count": 5,
     "metadata": {},
     "output_type": "execute_result"
    }
   ],
   "source": [
    "cv2.imwrite(\"Mushahid.jpeg\",photo[1])"
   ]
  },
  {
   "cell_type": "code",
   "execution_count": 1,
   "id": "e6efbe76-a6db-417d-86ff-46ee518709b0",
   "metadata": {},
   "outputs": [
    {
     "ename": "NameError",
     "evalue": "name 'cv2' is not defined",
     "output_type": "error",
     "traceback": [
      "\u001b[1;31m---------------------------------------------------------------------------\u001b[0m",
      "\u001b[1;31mNameError\u001b[0m                                 Traceback (most recent call last)",
      "Cell \u001b[1;32mIn[1], line 1\u001b[0m\n\u001b[1;32m----> 1\u001b[0m cv2\u001b[38;5;241m.\u001b[39mimshow(\u001b[38;5;124m\"\u001b[39m\u001b[38;5;124mMushahid Photo\u001b[39m\u001b[38;5;124m\"\u001b[39m,photo[\u001b[38;5;241m1\u001b[39m])\n\u001b[0;32m      2\u001b[0m cv2\u001b[38;5;241m.\u001b[39mwaitkey(\u001b[38;5;241m5000\u001b[39m)\n",
      "\u001b[1;31mNameError\u001b[0m: name 'cv2' is not defined"
     ]
    }
   ],
   "source": [
    "cv2.imshow(\"Mushahid Photo\",photo[1])\n",
    "cv2.waitkey(5000)\n"
   ]
  },
  {
   "cell_type": "code",
   "execution_count": 2,
   "id": "23f8835b-54c5-42ad-9d2e-4aa898bb1d67",
   "metadata": {},
   "outputs": [],
   "source": [
    "import cv2"
   ]
  },
  {
   "cell_type": "code",
   "execution_count": 4,
   "id": "67d5c1df-fea3-428f-b6d1-43299f47083f",
   "metadata": {},
   "outputs": [],
   "source": [
    "cap=cv2.VideoCapture(0)"
   ]
  },
  {
   "cell_type": "code",
   "execution_count": 13,
   "id": "7bd9926c-3523-45f4-837f-298c0fe279ed",
   "metadata": {},
   "outputs": [],
   "source": [
    "status,photo=cap.read()"
   ]
  },
  {
   "cell_type": "code",
   "execution_count": 12,
   "id": "a19238bb-77d7-45fb-b528-dd6f124dbcad",
   "metadata": {},
   "outputs": [],
   "source": [
    "cv2.imshow(\"Mushahid Photo\",photo)\n",
    "cv2.waitKey()\n",
    "cv2.destroyAllWindows()"
   ]
  },
  {
   "cell_type": "code",
   "execution_count": 14,
   "id": "720fd2d9-7a88-4f3d-881d-3f3ce606db98",
   "metadata": {},
   "outputs": [],
   "source": [
    "cap.release()"
   ]
  },
  {
   "cell_type": "code",
   "execution_count": 15,
   "id": "2f5b10ef-1c98-4dd8-8182-c3ab930ccb38",
   "metadata": {},
   "outputs": [],
   "source": [
    "cv2.imshow(\"Mushahid Photo\",photo)\n",
    "cv2.waitKey()\n",
    "cv2.destroyAllWindows()"
   ]
  },
  {
   "cell_type": "code",
   "execution_count": 16,
   "id": "fc55cd0f-5ed5-4786-ad29-3bc51f8a59c7",
   "metadata": {},
   "outputs": [],
   "source": [
    "import numpy"
   ]
  },
  {
   "cell_type": "code",
   "execution_count": 17,
   "id": "13e35afa-8cb7-468e-a47c-b9b865f21ee1",
   "metadata": {},
   "outputs": [
    {
     "data": {
      "text/plain": [
       "numpy.ndarray"
      ]
     },
     "execution_count": 17,
     "metadata": {},
     "output_type": "execute_result"
    }
   ],
   "source": [
    "type(photo)\n"
   ]
  },
  {
   "cell_type": "code",
   "execution_count": 18,
   "id": "714c9427-f3f7-4409-be06-114489ca0df4",
   "metadata": {},
   "outputs": [
    {
     "data": {
      "text/plain": [
       "(480, 640, 3)"
      ]
     },
     "execution_count": 18,
     "metadata": {},
     "output_type": "execute_result"
    }
   ],
   "source": [
    "photo.shape"
   ]
  },
  {
   "cell_type": "code",
   "execution_count": 19,
   "id": "c4d874a7-17aa-4731-95ea-4811a1df9511",
   "metadata": {
    "scrolled": true
   },
   "outputs": [
    {
     "name": "stdout",
     "output_type": "stream",
     "text": [
      "Help on tuple object:\n",
      "\n",
      "class tuple(object)\n",
      " |  tuple(iterable=(), /)\n",
      " |\n",
      " |  Built-in immutable sequence.\n",
      " |\n",
      " |  If no argument is given, the constructor returns an empty tuple.\n",
      " |  If iterable is specified the tuple is initialized from iterable's items.\n",
      " |\n",
      " |  If the argument is a tuple, the return value is the same object.\n",
      " |\n",
      " |  Built-in subclasses:\n",
      " |      asyncgen_hooks\n",
      " |      UnraisableHookArgs\n",
      " |\n",
      " |  Methods defined here:\n",
      " |\n",
      " |  __add__(self, value, /)\n",
      " |      Return self+value.\n",
      " |\n",
      " |  __contains__(self, key, /)\n",
      " |      Return bool(key in self).\n",
      " |\n",
      " |  __eq__(self, value, /)\n",
      " |      Return self==value.\n",
      " |\n",
      " |  __ge__(self, value, /)\n",
      " |      Return self>=value.\n",
      " |\n",
      " |  __getattribute__(self, name, /)\n",
      " |      Return getattr(self, name).\n",
      " |\n",
      " |  __getitem__(self, key, /)\n",
      " |      Return self[key].\n",
      " |\n",
      " |  __getnewargs__(self, /)\n",
      " |\n",
      " |  __gt__(self, value, /)\n",
      " |      Return self>value.\n",
      " |\n",
      " |  __hash__(self, /)\n",
      " |      Return hash(self).\n",
      " |\n",
      " |  __iter__(self, /)\n",
      " |      Implement iter(self).\n",
      " |\n",
      " |  __le__(self, value, /)\n",
      " |      Return self<=value.\n",
      " |\n",
      " |  __len__(self, /)\n",
      " |      Return len(self).\n",
      " |\n",
      " |  __lt__(self, value, /)\n",
      " |      Return self<value.\n",
      " |\n",
      " |  __mul__(self, value, /)\n",
      " |      Return self*value.\n",
      " |\n",
      " |  __ne__(self, value, /)\n",
      " |      Return self!=value.\n",
      " |\n",
      " |  __repr__(self, /)\n",
      " |      Return repr(self).\n",
      " |\n",
      " |  __rmul__(self, value, /)\n",
      " |      Return value*self.\n",
      " |\n",
      " |  count(self, value, /)\n",
      " |      Return number of occurrences of value.\n",
      " |\n",
      " |  index(self, value, start=0, stop=9223372036854775807, /)\n",
      " |      Return first index of value.\n",
      " |\n",
      " |      Raises ValueError if the value is not present.\n",
      " |\n",
      " |  ----------------------------------------------------------------------\n",
      " |  Class methods defined here:\n",
      " |\n",
      " |  __class_getitem__(...)\n",
      " |      See PEP 585\n",
      " |\n",
      " |  ----------------------------------------------------------------------\n",
      " |  Static methods defined here:\n",
      " |\n",
      " |  __new__(*args, **kwargs)\n",
      " |      Create and return a new object.  See help(type) for accurate signature.\n",
      "\n"
     ]
    }
   ],
   "source": [
    "help(photo.shape)"
   ]
  },
  {
   "cell_type": "code",
   "execution_count": 20,
   "id": "b3e7ee3c-be5d-4a84-8b33-505b9d3ef9e7",
   "metadata": {},
   "outputs": [
    {
     "data": {
      "text/plain": [
       "array([[[126, 147, 149],\n",
       "        [131, 146, 149],\n",
       "        [137, 145, 146],\n",
       "        ...,\n",
       "        [141, 149, 148],\n",
       "        [146, 152, 152],\n",
       "        [147, 152, 152]],\n",
       "\n",
       "       [[126, 147, 148],\n",
       "        [132, 147, 147],\n",
       "        [138, 146, 146],\n",
       "        ...,\n",
       "        [138, 146, 146],\n",
       "        [140, 148, 147],\n",
       "        [143, 151, 150]],\n",
       "\n",
       "       [[142, 147, 147],\n",
       "        [141, 149, 148],\n",
       "        [139, 149, 148],\n",
       "        ...,\n",
       "        [124, 142, 143],\n",
       "        [117, 137, 140],\n",
       "        [127, 148, 151]],\n",
       "\n",
       "       ...,\n",
       "\n",
       "       [[ 37,  47,  49],\n",
       "        [ 35,  46,  47],\n",
       "        [ 33,  46,  45],\n",
       "        ...,\n",
       "        [ 43,  68,  75],\n",
       "        [ 48,  68,  75],\n",
       "        [ 48,  68,  75]],\n",
       "\n",
       "       [[ 35,  47,  50],\n",
       "        [ 34,  46,  48],\n",
       "        [ 33,  45,  46],\n",
       "        ...,\n",
       "        [ 40,  69,  74],\n",
       "        [ 37,  67,  71],\n",
       "        [ 35,  64,  68]],\n",
       "\n",
       "       [[ 27,  45,  48],\n",
       "        [ 26,  44,  46],\n",
       "        [ 28,  44,  45],\n",
       "        ...,\n",
       "        [ 39,  66,  76],\n",
       "        [ 37,  63,  72],\n",
       "        [ 39,  65,  74]]], dtype=uint8)"
      ]
     },
     "execution_count": 20,
     "metadata": {},
     "output_type": "execute_result"
    }
   ],
   "source": [
    "photo\n"
   ]
  },
  {
   "cell_type": "code",
   "execution_count": 21,
   "id": "894d74f7-8128-4507-9dec-6aba3899379d",
   "metadata": {},
   "outputs": [
    {
     "data": {
      "text/plain": [
       "array([126, 147, 149], dtype=uint8)"
      ]
     },
     "execution_count": 21,
     "metadata": {},
     "output_type": "execute_result"
    }
   ],
   "source": [
    "photo[0][0]"
   ]
  },
  {
   "cell_type": "code",
   "execution_count": 24,
   "id": "ed6eca83-fa68-408e-a90c-224c0e0fb2ec",
   "metadata": {},
   "outputs": [],
   "source": [
    "photo[100]=[0,255,0]"
   ]
  },
  {
   "cell_type": "code",
   "execution_count": 25,
   "id": "208b35c3-ee64-4b16-9ea5-8f68caa510fe",
   "metadata": {},
   "outputs": [],
   "source": [
    "cv2.imshow(\"Mushahid Photo\",photo)\n",
    "cv2.waitKey()\n",
    "cv2.destroyAllWindows()"
   ]
  },
  {
   "cell_type": "code",
   "execution_count": 26,
   "id": "32e67a2d-9ad3-419b-bfc9-fa450f324553",
   "metadata": {},
   "outputs": [
    {
     "data": {
      "text/plain": [
       "array([[  0, 255,   0],\n",
       "       [  0, 255,   0],\n",
       "       [  0, 255,   0],\n",
       "       ...,\n",
       "       [  0, 255,   0],\n",
       "       [  0, 255,   0],\n",
       "       [  0, 255,   0]], dtype=uint8)"
      ]
     },
     "execution_count": 26,
     "metadata": {},
     "output_type": "execute_result"
    }
   ],
   "source": [
    "photo[100]\n"
   ]
  },
  {
   "cell_type": "code",
   "execution_count": 27,
   "id": "bb75d395-2561-40ff-a4ae-c2f469498ea2",
   "metadata": {},
   "outputs": [
    {
     "data": {
      "text/plain": [
       "(480, 640, 3)"
      ]
     },
     "execution_count": 27,
     "metadata": {},
     "output_type": "execute_result"
    }
   ],
   "source": [
    "photo.shape\n"
   ]
  },
  {
   "cell_type": "code",
   "execution_count": 28,
   "id": "f9898112-1cd5-421c-9d9f-99a66dd87622",
   "metadata": {},
   "outputs": [
    {
     "data": {
      "text/plain": [
       "array([[[  0, 255,   0],\n",
       "        [  0, 255,   0],\n",
       "        [  0, 255,   0],\n",
       "        ...,\n",
       "        [  0, 255,   0],\n",
       "        [  0, 255,   0],\n",
       "        [  0, 255,   0]],\n",
       "\n",
       "       [[155, 165, 176],\n",
       "        [153, 165, 173],\n",
       "        [150, 163, 169],\n",
       "        ...,\n",
       "        [142, 137, 143],\n",
       "        [150, 133, 142],\n",
       "        [159, 140, 149]],\n",
       "\n",
       "       [[150, 164, 175],\n",
       "        [147, 165, 172],\n",
       "        [143, 164, 167],\n",
       "        ...,\n",
       "        [142, 143, 150],\n",
       "        [147, 143, 153],\n",
       "        [147, 143, 153]],\n",
       "\n",
       "       ...,\n",
       "\n",
       "       [[123, 135, 147],\n",
       "        [122, 136, 142],\n",
       "        [125, 140, 139],\n",
       "        ...,\n",
       "        [114, 136, 139],\n",
       "        [118, 144, 146],\n",
       "        [113, 139, 141]],\n",
       "\n",
       "       [[120, 137, 147],\n",
       "        [126, 139, 143],\n",
       "        [131, 139, 139],\n",
       "        ...,\n",
       "        [118, 134, 139],\n",
       "        [120, 138, 143],\n",
       "        [121, 139, 144]],\n",
       "\n",
       "       [[133, 135, 144],\n",
       "        [134, 137, 141],\n",
       "        [134, 139, 139],\n",
       "        ...,\n",
       "        [126, 137, 142],\n",
       "        [129, 139, 142],\n",
       "        [130, 139, 142]]], dtype=uint8)"
      ]
     },
     "execution_count": 28,
     "metadata": {},
     "output_type": "execute_result"
    }
   ],
   "source": [
    "photo[100:300]\n"
   ]
  },
  {
   "cell_type": "code",
   "execution_count": 33,
   "id": "2e527d7d-ddb7-45b2-ab3b-91b017e88ca6",
   "metadata": {},
   "outputs": [],
   "source": [
    "cv2.imshow(\"Mushahid Photo\",photo[100:300,300:5500])\n",
    "cv2.waitKey()\n",
    "cv2.destroyAllWindows()"
   ]
  },
  {
   "cell_type": "code",
   "execution_count": 34,
   "id": "2a8d6f74-9595-4056-a75f-43e858e36677",
   "metadata": {},
   "outputs": [],
   "source": [
    "photo=photo[:,:,"
   ]
  },
  {
   "cell_type": "code",
   "execution_count": 35,
   "id": "8e11ab34-5e63-4f9a-b9d6-ce8dbd16b387",
   "metadata": {},
   "outputs": [],
   "source": [
    "cv2.imshow(\"Mushahid Photo\",photo)\n",
    "cv2.waitKey()\n",
    "cv2.destroyAllWindows()"
   ]
  },
  {
   "cell_type": "code",
   "execution_count": 38,
   "id": "4c0d8c9d-0118-44bd-86d1-5561123af3dc",
   "metadata": {},
   "outputs": [],
   "source": [
    "photo+=150"
   ]
  },
  {
   "cell_type": "code",
   "execution_count": 39,
   "id": "302b08e7-2709-4e5d-b49e-00813fffef78",
   "metadata": {},
   "outputs": [],
   "source": [
    "cv2.imshow(\"Mushahid Photo\",photo)\n",
    "cv2.waitKey()\n",
    "cv2.destroyAllWindows()"
   ]
  },
  {
   "cell_type": "code",
   "execution_count": 2,
   "id": "f1ab691f-f34c-44b1-92ed-196a40e8c1d7",
   "metadata": {},
   "outputs": [],
   "source": [
    "import smtplib"
   ]
  },
  {
   "cell_type": "code",
   "execution_count": 3,
   "id": "d91dbb29-5158-45d8-9931-d32d0dcd7d57",
   "metadata": {},
   "outputs": [
    {
     "data": {
      "text/plain": [
       "(220, b'2.0.0 Ready to start TLS')"
      ]
     },
     "execution_count": 3,
     "metadata": {},
     "output_type": "execute_result"
    }
   ],
   "source": [
    "s=smtplib.SMTP('smtp.gmail.com',587)\n",
    "s.starttls()"
   ]
  },
  {
   "cell_type": "code",
   "execution_count": 4,
   "id": "cb1ff37c-dcfa-46e8-a984-daa2d1c12483",
   "metadata": {},
   "outputs": [
    {
     "ename": "SMTPAuthenticationError",
     "evalue": "(534, b'5.7.9 Application-specific password required. For more information, go to\\n5.7.9  https://support.google.com/mail/?p=InvalidSecondFactor d2e1a72fcca58-708044ac343sm8777564b3a.160 - gsmtp')",
     "output_type": "error",
     "traceback": [
      "\u001b[1;31m---------------------------------------------------------------------------\u001b[0m",
      "\u001b[1;31mSMTPAuthenticationError\u001b[0m                   Traceback (most recent call last)",
      "Cell \u001b[1;32mIn[4], line 1\u001b[0m\n\u001b[1;32m----> 1\u001b[0m s\u001b[38;5;241m.\u001b[39mlogin(\u001b[38;5;124m\"\u001b[39m\u001b[38;5;124mmd.mushahidansari@gmail.com\u001b[39m\u001b[38;5;124m\"\u001b[39m,\u001b[38;5;124m\"\u001b[39m\u001b[38;5;124m7050929556Gg@\u001b[39m\u001b[38;5;124m\"\u001b[39m)\n",
      "File \u001b[1;32m~\\Anacoda3\\Lib\\smtplib.py:750\u001b[0m, in \u001b[0;36mSMTP.login\u001b[1;34m(self, user, password, initial_response_ok)\u001b[0m\n\u001b[0;32m    747\u001b[0m         last_exception \u001b[38;5;241m=\u001b[39m e\n\u001b[0;32m    749\u001b[0m \u001b[38;5;66;03m# We could not login successfully.  Return result of last attempt.\u001b[39;00m\n\u001b[1;32m--> 750\u001b[0m \u001b[38;5;28;01mraise\u001b[39;00m last_exception\n",
      "File \u001b[1;32m~\\Anacoda3\\Lib\\smtplib.py:739\u001b[0m, in \u001b[0;36mSMTP.login\u001b[1;34m(self, user, password, initial_response_ok)\u001b[0m\n\u001b[0;32m    737\u001b[0m method_name \u001b[38;5;241m=\u001b[39m \u001b[38;5;124m'\u001b[39m\u001b[38;5;124mauth_\u001b[39m\u001b[38;5;124m'\u001b[39m \u001b[38;5;241m+\u001b[39m authmethod\u001b[38;5;241m.\u001b[39mlower()\u001b[38;5;241m.\u001b[39mreplace(\u001b[38;5;124m'\u001b[39m\u001b[38;5;124m-\u001b[39m\u001b[38;5;124m'\u001b[39m, \u001b[38;5;124m'\u001b[39m\u001b[38;5;124m_\u001b[39m\u001b[38;5;124m'\u001b[39m)\n\u001b[0;32m    738\u001b[0m \u001b[38;5;28;01mtry\u001b[39;00m:\n\u001b[1;32m--> 739\u001b[0m     (code, resp) \u001b[38;5;241m=\u001b[39m \u001b[38;5;28mself\u001b[39m\u001b[38;5;241m.\u001b[39mauth(\n\u001b[0;32m    740\u001b[0m         authmethod, \u001b[38;5;28mgetattr\u001b[39m(\u001b[38;5;28mself\u001b[39m, method_name),\n\u001b[0;32m    741\u001b[0m         initial_response_ok\u001b[38;5;241m=\u001b[39minitial_response_ok)\n\u001b[0;32m    742\u001b[0m     \u001b[38;5;66;03m# 235 == 'Authentication successful'\u001b[39;00m\n\u001b[0;32m    743\u001b[0m     \u001b[38;5;66;03m# 503 == 'Error: already authenticated'\u001b[39;00m\n\u001b[0;32m    744\u001b[0m     \u001b[38;5;28;01mif\u001b[39;00m code \u001b[38;5;129;01min\u001b[39;00m (\u001b[38;5;241m235\u001b[39m, \u001b[38;5;241m503\u001b[39m):\n",
      "File \u001b[1;32m~\\Anacoda3\\Lib\\smtplib.py:662\u001b[0m, in \u001b[0;36mSMTP.auth\u001b[1;34m(self, mechanism, authobject, initial_response_ok)\u001b[0m\n\u001b[0;32m    660\u001b[0m \u001b[38;5;28;01mif\u001b[39;00m code \u001b[38;5;129;01min\u001b[39;00m (\u001b[38;5;241m235\u001b[39m, \u001b[38;5;241m503\u001b[39m):\n\u001b[0;32m    661\u001b[0m     \u001b[38;5;28;01mreturn\u001b[39;00m (code, resp)\n\u001b[1;32m--> 662\u001b[0m \u001b[38;5;28;01mraise\u001b[39;00m SMTPAuthenticationError(code, resp)\n",
      "\u001b[1;31mSMTPAuthenticationError\u001b[0m: (534, b'5.7.9 Application-specific password required. For more information, go to\\n5.7.9  https://support.google.com/mail/?p=InvalidSecondFactor d2e1a72fcca58-708044ac343sm8777564b3a.160 - gsmtp')"
     ]
    }
   ],
   "source": [
    "s.login(\"md.mushahidansari@gmail.com\",\"7050929556Gg@\")"
   ]
  },
  {
   "cell_type": "code",
   "execution_count": null,
   "id": "4e3681cb-c45c-4ece-be72-c5aa07c45e07",
   "metadata": {},
   "outputs": [],
   "source": []
  }
 ],
 "metadata": {
  "kernelspec": {
   "display_name": "Python 3 (ipykernel)",
   "language": "python",
   "name": "python3"
  },
  "language_info": {
   "codemirror_mode": {
    "name": "ipython",
    "version": 3
   },
   "file_extension": ".py",
   "mimetype": "text/x-python",
   "name": "python",
   "nbconvert_exporter": "python",
   "pygments_lexer": "ipython3",
   "version": "3.12.4"
  }
 },
 "nbformat": 4,
 "nbformat_minor": 5
}
