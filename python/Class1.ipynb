{
 "cells": [
  {
   "cell_type": "code",
   "execution_count": null,
   "id": "97ceb224-7d6e-4688-a20f-f90f071c8b27",
   "metadata": {},
   "outputs": [],
   "source": [
    "student= [\n",
    "            [\"rahul\",111,\"mum\"]\n",
    "            ["
   ]
  },
  {
   "cell_type": "code",
   "execution_count": 1,
   "id": "3e563b62-86dd-44e1-a423-9c604362bf96",
   "metadata": {},
   "outputs": [
    {
     "ename": "NameError",
     "evalue": "name 'student' is not defined",
     "output_type": "error",
     "traceback": [
      "\u001b[1;31m---------------------------------------------------------------------------\u001b[0m",
      "\u001b[1;31mNameError\u001b[0m                                 Traceback (most recent call last)",
      "Cell \u001b[1;32mIn[1], line 1\u001b[0m\n\u001b[1;32m----> 1\u001b[0m \u001b[38;5;28mprint\u001b[39m(student)\n",
      "\u001b[1;31mNameError\u001b[0m: name 'student' is not defined"
     ]
    }
   ],
   "source": [
    "print(student)"
   ]
  },
  {
   "cell_type": "code",
   "execution_count": 2,
   "id": "2e5d098e-2763-4c09-b660-4ab3cb7496d7",
   "metadata": {},
   "outputs": [
    {
     "name": "stderr",
     "output_type": "stream",
     "text": [
      "<>:2: SyntaxWarning: list indices must be integers or slices, not tuple; perhaps you missed a comma?\n",
      "<>:2: SyntaxWarning: list indices must be integers or slices, not tuple; perhaps you missed a comma?\n",
      "C:\\Users\\saba ahmad\\AppData\\Local\\Temp\\ipykernel_11088\\1196785861.py:2: SyntaxWarning: list indices must be integers or slices, not tuple; perhaps you missed a comma?\n",
      "  [\"rahul\",111,\"mum\"]\n",
      "C:\\Users\\saba ahmad\\AppData\\Local\\Temp\\ipykernel_11088\\1196785861.py:2: SyntaxWarning: list indices must be integers or slices, not tuple; perhaps you missed a comma?\n",
      "  [\"rahul\",111,\"mum\"]\n",
      "C:\\Users\\saba ahmad\\AppData\\Local\\Temp\\ipykernel_11088\\1196785861.py:2: SyntaxWarning: list indices must be integers or slices, not tuple; perhaps you missed a comma?\n",
      "  [\"rahul\",111,\"mum\"]\n",
      "C:\\Users\\saba ahmad\\AppData\\Local\\Temp\\ipykernel_11088\\1196785861.py:2: SyntaxWarning: list indices must be integers or slices, not tuple; perhaps you missed a comma?\n",
      "  [\"rahul\",111,\"mum\"]\n",
      "C:\\Users\\saba ahmad\\AppData\\Local\\Temp\\ipykernel_11088\\1196785861.py:2: SyntaxWarning: list indices must be integers or slices, not tuple; perhaps you missed a comma?\n",
      "  [\"rahul\",111,\"mum\"]\n",
      "C:\\Users\\saba ahmad\\AppData\\Local\\Temp\\ipykernel_11088\\1196785861.py:2: SyntaxWarning: list indices must be integers or slices, not tuple; perhaps you missed a comma?\n",
      "  [\"rahul\",111,\"mum\"]\n",
      "C:\\Users\\saba ahmad\\AppData\\Local\\Temp\\ipykernel_11088\\1196785861.py:2: SyntaxWarning: list indices must be integers or slices, not tuple; perhaps you missed a comma?\n",
      "  [\"rahul\",111,\"mum\"]\n",
      "C:\\Users\\saba ahmad\\AppData\\Local\\Temp\\ipykernel_11088\\1196785861.py:2: SyntaxWarning: list indices must be integers or slices, not tuple; perhaps you missed a comma?\n",
      "  [\"rahul\",111,\"mum\"]\n",
      "C:\\Users\\saba ahmad\\AppData\\Local\\Temp\\ipykernel_11088\\1196785861.py:2: SyntaxWarning: list indices must be integers or slices, not tuple; perhaps you missed a comma?\n",
      "  [\"rahul\",111,\"mum\"]\n"
     ]
    },
    {
     "ename": "TypeError",
     "evalue": "list indices must be integers or slices, not tuple",
     "output_type": "error",
     "traceback": [
      "\u001b[1;31m---------------------------------------------------------------------------\u001b[0m",
      "\u001b[1;31mTypeError\u001b[0m                                 Traceback (most recent call last)",
      "Cell \u001b[1;32mIn[2], line 2\u001b[0m\n\u001b[0;32m      1\u001b[0m student \u001b[38;5;241m=\u001b[39m [\n\u001b[1;32m----> 2\u001b[0m                 [\u001b[38;5;124m\"\u001b[39m\u001b[38;5;124mrahul\u001b[39m\u001b[38;5;124m\"\u001b[39m,\u001b[38;5;241m111\u001b[39m,\u001b[38;5;124m\"\u001b[39m\u001b[38;5;124mmum\u001b[39m\u001b[38;5;124m\"\u001b[39m]\n\u001b[0;32m      3\u001b[0m                 [\u001b[38;5;124m\"\u001b[39m\u001b[38;5;124meric\u001b[39m\u001b[38;5;124m\"\u001b[39m,\u001b[38;5;241m222\u001b[39m, \u001b[38;5;124m\"\u001b[39m\u001b[38;5;124mdelhi\u001b[39m\u001b[38;5;124m\"\u001b[39m]\n\u001b[0;32m      4\u001b[0m                 [\u001b[38;5;124m\"\u001b[39m\u001b[38;5;124mtom\u001b[39m\u001b[38;5;124m\"\u001b[39m,\u001b[38;5;241m333\u001b[39m,\u001b[38;5;124m\"\u001b[39m\u001b[38;5;124mJaipur\u001b[39m\u001b[38;5;124m\"\u001b[39m]\n\u001b[0;32m      5\u001b[0m                 [\u001b[38;5;124m\"\u001b[39m\u001b[38;5;124mjack\u001b[39m\u001b[38;5;124m\"\u001b[39m, \u001b[38;5;241m444\u001b[39m, \u001b[38;5;124m\"\u001b[39m\u001b[38;5;124mgoa\u001b[39m\u001b[38;5;124m\"\u001b[39m]\n\u001b[0;32m      6\u001b[0m ]\n",
      "\u001b[1;31mTypeError\u001b[0m: list indices must be integers or slices, not tuple"
     ]
    }
   ],
   "source": [
    "student = [\n",
    "                [\"rahul\",111,\"mum\"]\n",
    "                [\"eric\",222, \"delhi\"]\n",
    "                [\"tom\",333,\"Jaipur\"]\n",
    "                [\"jack\", 444, \"goa\"]\n",
    "]\n"
   ]
  },
  {
   "cell_type": "code",
   "execution_count": 3,
   "id": "42c56b24-b1a5-4ad0-b41c-43234dfe7842",
   "metadata": {},
   "outputs": [
    {
     "ename": "SyntaxError",
     "evalue": "invalid syntax (3733175130.py, line 2)",
     "output_type": "error",
     "traceback": [
      "\u001b[1;36m  Cell \u001b[1;32mIn[3], line 2\u001b[1;36m\u001b[0m\n\u001b[1;33m    ----> 2                 [\"rahul\",111,\"mum\"],\u001b[0m\n\u001b[1;37m       ^\u001b[0m\n\u001b[1;31mSyntaxError\u001b[0m\u001b[1;31m:\u001b[0m invalid syntax\n"
     ]
    }
   ],
   "source": [
    "student = [\n",
    "----> 2                 [\"rahul\",111,\"mum\"],\n",
    "      3                 [\"eric\",222, \"delhi\"],\n",
    "      4                 [\"tom\",333,\"Jaipur\"],\n",
    "      5                 [\"jack\", 444, \"goa\"],\n",
    "      6 ]"
   ]
  },
  {
   "cell_type": "code",
   "execution_count": 4,
   "id": "862ae745-641f-40b2-bc8b-bda44d476ac2",
   "metadata": {},
   "outputs": [
    {
     "ename": "SyntaxError",
     "evalue": "invalid syntax (3768792676.py, line 2)",
     "output_type": "error",
     "traceback": [
      "\u001b[1;36m  Cell \u001b[1;32mIn[4], line 2\u001b[1;36m\u001b[0m\n\u001b[1;33m    ----> 2                 [\"rahul\",111,\"mum\"],\u001b[0m\n\u001b[1;37m       ^\u001b[0m\n\u001b[1;31mSyntaxError\u001b[0m\u001b[1;31m:\u001b[0m invalid syntax\n"
     ]
    }
   ],
   "source": [
    "student = [\n",
    "----> 2                 [\"rahul\",111,\"mum\"],\n",
    "      3                 [\"eric\",222, \"delhi\"],\n",
    "      4                 [\"tom\",333,\"Jaipur\"],\n",
    "      5                 [\"jack\", 444, \"goa\"]\n",
    "      6 ]"
   ]
  },
  {
   "cell_type": "code",
   "execution_count": 5,
   "id": "9fd6db32-ca0e-4ade-93b0-4ee5cded285d",
   "metadata": {},
   "outputs": [],
   "source": [
    "student=[\"rahul\",333,\"Jaipur\"]"
   ]
  },
  {
   "cell_type": "code",
   "execution_count": 6,
   "id": "35d66b83-2c2f-4755-a57e-bc8a76ff7ee8",
   "metadata": {},
   "outputs": [
    {
     "data": {
      "text/plain": [
       "['rahul', 333, 'Jaipur']"
      ]
     },
     "execution_count": 6,
     "metadata": {},
     "output_type": "execute_result"
    }
   ],
   "source": [
    "student"
   ]
  },
  {
   "cell_type": "code",
   "execution_count": 7,
   "id": "fc120e84-db69-43c5-a9fa-6391eeace523",
   "metadata": {},
   "outputs": [
    {
     "ename": "SyntaxError",
     "evalue": "closing parenthesis '}' does not match opening parenthesis '[' on line 1 (1968913630.py, line 4)",
     "output_type": "error",
     "traceback": [
      "\u001b[1;36m  Cell \u001b[1;32mIn[7], line 4\u001b[1;36m\u001b[0m\n\u001b[1;33m    }\u001b[0m\n\u001b[1;37m    ^\u001b[0m\n\u001b[1;31mSyntaxError\u001b[0m\u001b[1;31m:\u001b[0m closing parenthesis '}' does not match opening parenthesis '[' on line 1\n"
     ]
    }
   ],
   "source": [
    "student= [ \n",
    "    [\"rahul\",222,\"mum\"],\n",
    "    [\"eric\",444,\"delhi\"]\n",
    "    }"
   ]
  },
  {
   "cell_type": "code",
   "execution_count": 8,
   "id": "7930346f-77bb-4053-8e8a-779148f8adad",
   "metadata": {},
   "outputs": [],
   "source": [
    "student= [ \n",
    "    [\"rahul\",222,\"mum\"],\n",
    "    [\"eric\",444,\"delhi\"]\n",
    "]\n"
   ]
  },
  {
   "cell_type": "code",
   "execution_count": 9,
   "id": "0792ed4b-e7a4-46a8-be3d-040581876da6",
   "metadata": {},
   "outputs": [
    {
     "data": {
      "text/plain": [
       "[['rahul', 222, 'mum'], ['eric', 444, 'delhi']]"
      ]
     },
     "execution_count": 9,
     "metadata": {},
     "output_type": "execute_result"
    }
   ],
   "source": [
    "student"
   ]
  },
  {
   "cell_type": "code",
   "execution_count": 10,
   "id": "b23c364c-5e10-4764-bdf0-c660045e5181",
   "metadata": {},
   "outputs": [
    {
     "ename": "AttributeError",
     "evalue": "'list' object has no attribute 'appent'",
     "output_type": "error",
     "traceback": [
      "\u001b[1;31m---------------------------------------------------------------------------\u001b[0m",
      "\u001b[1;31mAttributeError\u001b[0m                            Traceback (most recent call last)",
      "Cell \u001b[1;32mIn[10], line 1\u001b[0m\n\u001b[1;32m----> 1\u001b[0m student\u001b[38;5;241m.\u001b[39mappent([\u001b[38;5;124m\"\u001b[39m\u001b[38;5;124mRohit\u001b[39m\u001b[38;5;124m\"\u001b[39m,\u001b[38;5;241m555\u001b[39m,\u001b[38;5;124m\"\u001b[39m\u001b[38;5;124mgoa\u001b[39m\u001b[38;5;124m\"\u001b[39m])\n",
      "\u001b[1;31mAttributeError\u001b[0m: 'list' object has no attribute 'appent'"
     ]
    }
   ],
   "source": [
    "student.appent([\"Rohit\",555,\"goa\"])\n"
   ]
  },
  {
   "cell_type": "code",
   "execution_count": 11,
   "id": "402c5628-8a0a-4d05-8aa4-e0cc8e3e8c5b",
   "metadata": {},
   "outputs": [],
   "source": [
    "student.append([\"Rohit\",555,\"goa\"])\n"
   ]
  },
  {
   "cell_type": "code",
   "execution_count": 12,
   "id": "e85e324e-e74f-4fde-a0a6-db8d42ceb651",
   "metadata": {},
   "outputs": [
    {
     "data": {
      "text/plain": [
       "[['rahul', 222, 'mum'], ['eric', 444, 'delhi'], ['Rohit', 555, 'goa']]"
      ]
     },
     "execution_count": 12,
     "metadata": {},
     "output_type": "execute_result"
    }
   ],
   "source": [
    "student\n"
   ]
  },
  {
   "cell_type": "code",
   "execution_count": 13,
   "id": "f6c20de4-f395-45c2-8083-99111b994e78",
   "metadata": {},
   "outputs": [
    {
     "data": {
      "text/plain": [
       "[['eric', 444, 'delhi']]"
      ]
     },
     "execution_count": 13,
     "metadata": {},
     "output_type": "execute_result"
    }
   ],
   "source": [
    "student[:][1:2]\n"
   ]
  },
  {
   "cell_type": "code",
   "execution_count": 14,
   "id": "89b615d0-d1b1-4957-90d4-f8dd90360915",
   "metadata": {},
   "outputs": [
    {
     "ename": "SyntaxError",
     "evalue": "invalid syntax. Perhaps you forgot a comma? (3329166524.py, line 1)",
     "output_type": "error",
     "traceback": [
      "\u001b[1;36m  Cell \u001b[1;32mIn[14], line 1\u001b[1;36m\u001b[0m\n\u001b[1;33m    student[student[][1]]\u001b[0m\n\u001b[1;37m            ^\u001b[0m\n\u001b[1;31mSyntaxError\u001b[0m\u001b[1;31m:\u001b[0m invalid syntax. Perhaps you forgot a comma?\n"
     ]
    }
   ],
   "source": [
    "student[student[][1]]"
   ]
  },
  {
   "cell_type": "code",
   "execution_count": 15,
   "id": "277d1f62-ae22-4f16-901d-3abca0bb275e",
   "metadata": {},
   "outputs": [
    {
     "ename": "SyntaxError",
     "evalue": "invalid syntax (3640326903.py, line 1)",
     "output_type": "error",
     "traceback": [
      "\u001b[1;36m  Cell \u001b[1;32mIn[15], line 1\u001b[1;36m\u001b[0m\n\u001b[1;33m    student[][1]\u001b[0m\n\u001b[1;37m            ^\u001b[0m\n\u001b[1;31mSyntaxError\u001b[0m\u001b[1;31m:\u001b[0m invalid syntax\n"
     ]
    }
   ],
   "source": [
    "student[][1]\n"
   ]
  },
  {
   "cell_type": "code",
   "execution_count": 16,
   "id": "fa1d10af-f3d7-4f5e-931d-47e574659873",
   "metadata": {},
   "outputs": [
    {
     "data": {
      "text/plain": [
       "[['rahul', 222, 'mum'], ['eric', 444, 'delhi'], ['Rohit', 555, 'goa']]"
      ]
     },
     "execution_count": 16,
     "metadata": {},
     "output_type": "execute_result"
    }
   ],
   "source": [
    "student[:]\n"
   ]
  },
  {
   "cell_type": "code",
   "execution_count": 17,
   "id": "da17577a-df70-4690-ac03-4bae2f42289b",
   "metadata": {},
   "outputs": [
    {
     "ename": "SyntaxError",
     "evalue": "invalid syntax (1386558420.py, line 1)",
     "output_type": "error",
     "traceback": [
      "\u001b[1;36m  Cell \u001b[1;32mIn[17], line 1\u001b[1;36m\u001b[0m\n\u001b[1;33m    student[][1:2]\u001b[0m\n\u001b[1;37m            ^\u001b[0m\n\u001b[1;31mSyntaxError\u001b[0m\u001b[1;31m:\u001b[0m invalid syntax\n"
     ]
    }
   ],
   "source": [
    "student[][1:2]\n"
   ]
  },
  {
   "cell_type": "code",
   "execution_count": 18,
   "id": "e5820afc-f12e-496d-841f-16f4d4665bff",
   "metadata": {},
   "outputs": [
    {
     "data": {
      "text/plain": [
       "['Rohit', 555, 'goa']"
      ]
     },
     "execution_count": 18,
     "metadata": {},
     "output_type": "execute_result"
    }
   ],
   "source": [
    "student[:][2]\n"
   ]
  },
  {
   "cell_type": "code",
   "execution_count": 19,
   "id": "94683456-3a95-4d23-93ba-de337c15f626",
   "metadata": {},
   "outputs": [
    {
     "ename": "SyntaxError",
     "evalue": "invalid syntax (368970739.py, line 1)",
     "output_type": "error",
     "traceback": [
      "\u001b[1;36m  Cell \u001b[1;32mIn[19], line 1\u001b[1;36m\u001b[0m\n\u001b[1;33m    student[]\u001b[0m\n\u001b[1;37m            ^\u001b[0m\n\u001b[1;31mSyntaxError\u001b[0m\u001b[1;31m:\u001b[0m invalid syntax\n"
     ]
    }
   ],
   "source": [
    "student[]\n"
   ]
  },
  {
   "cell_type": "code",
   "execution_count": 20,
   "id": "94d3099d-7cf6-4bd9-b511-0f8d8fea0763",
   "metadata": {},
   "outputs": [
    {
     "data": {
      "text/plain": [
       "[['eric', 444, 'delhi'], ['Rohit', 555, 'goa']]"
      ]
     },
     "execution_count": 20,
     "metadata": {},
     "output_type": "execute_result"
    }
   ],
   "source": [
    "student[1:3]\n"
   ]
  },
  {
   "cell_type": "code",
   "execution_count": 21,
   "id": "8928577d-6497-4ec0-9b0c-5c4c1ebf80cc",
   "metadata": {},
   "outputs": [
    {
     "ename": "SyntaxError",
     "evalue": "invalid syntax (2132019271.py, line 1)",
     "output_type": "error",
     "traceback": [
      "\u001b[1;36m  Cell \u001b[1;32mIn[21], line 1\u001b[1;36m\u001b[0m\n\u001b[1;33m    student[][:]\u001b[0m\n\u001b[1;37m            ^\u001b[0m\n\u001b[1;31mSyntaxError\u001b[0m\u001b[1;31m:\u001b[0m invalid syntax\n"
     ]
    }
   ],
   "source": [
    "student[][:]\n"
   ]
  },
  {
   "cell_type": "code",
   "execution_count": 22,
   "id": "8a82f3b5-c912-4e59-ab66-8d0be59aeebe",
   "metadata": {},
   "outputs": [
    {
     "data": {
      "text/plain": [
       "[['rahul', 222, 'mum'], ['eric', 444, 'delhi'], ['Rohit', 555, 'goa']]"
      ]
     },
     "execution_count": 22,
     "metadata": {},
     "output_type": "execute_result"
    }
   ],
   "source": [
    "student[:][:]\n"
   ]
  },
  {
   "cell_type": "code",
   "execution_count": 23,
   "id": "f024f57a-5a7b-4d28-911a-f396356377b4",
   "metadata": {},
   "outputs": [
    {
     "ename": "SyntaxError",
     "evalue": "invalid syntax (2513450537.py, line 1)",
     "output_type": "error",
     "traceback": [
      "\u001b[1;36m  Cell \u001b[1;32mIn[23], line 1\u001b[1;36m\u001b[0m\n\u001b[1;33m    student[][1:3]\u001b[0m\n\u001b[1;37m            ^\u001b[0m\n\u001b[1;31mSyntaxError\u001b[0m\u001b[1;31m:\u001b[0m invalid syntax\n"
     ]
    }
   ],
   "source": [
    "student[][1:3]\n"
   ]
  },
  {
   "cell_type": "code",
   "execution_count": 24,
   "id": "2dd3d95f-d8e8-4541-9b0d-c74fbd6b2eff",
   "metadata": {},
   "outputs": [
    {
     "data": {
      "text/plain": [
       "[['eric', 444, 'delhi'], ['Rohit', 555, 'goa']]"
      ]
     },
     "execution_count": 24,
     "metadata": {},
     "output_type": "execute_result"
    }
   ],
   "source": [
    "student[1:3][:]\n"
   ]
  },
  {
   "cell_type": "code",
   "execution_count": 25,
   "id": "30927962-c2f1-492e-9256-b6883f6add20",
   "metadata": {},
   "outputs": [
    {
     "data": {
      "text/plain": [
       "[['Rohit', 555, 'goa']]"
      ]
     },
     "execution_count": 25,
     "metadata": {},
     "output_type": "execute_result"
    }
   ],
   "source": [
    "student[1:3][1:3]"
   ]
  },
  {
   "cell_type": "code",
   "execution_count": 26,
   "id": "4f59fb40-fa40-40c5-9fd8-4be1fa33b3ed",
   "metadata": {},
   "outputs": [
    {
     "ename": "SyntaxError",
     "evalue": "invalid syntax (2445379727.py, line 1)",
     "output_type": "error",
     "traceback": [
      "\u001b[1;36m  Cell \u001b[1;32mIn[26], line 1\u001b[1;36m\u001b[0m\n\u001b[1;33m    student([:][:])\u001b[0m\n\u001b[1;37m             ^\u001b[0m\n\u001b[1;31mSyntaxError\u001b[0m\u001b[1;31m:\u001b[0m invalid syntax\n"
     ]
    }
   ],
   "source": [
    "student([:][:])\n"
   ]
  },
  {
   "cell_type": "code",
   "execution_count": 27,
   "id": "18f32e9f-3eb4-417a-9790-d7b5c5ad7328",
   "metadata": {},
   "outputs": [
    {
     "ename": "NameError",
     "evalue": "name 'array' is not defined",
     "output_type": "error",
     "traceback": [
      "\u001b[1;31m---------------------------------------------------------------------------\u001b[0m",
      "\u001b[1;31mNameError\u001b[0m                                 Traceback (most recent call last)",
      "Cell \u001b[1;32mIn[27], line 1\u001b[0m\n\u001b[1;32m----> 1\u001b[0m array(student)\n",
      "\u001b[1;31mNameError\u001b[0m: name 'array' is not defined"
     ]
    }
   ],
   "source": [
    "array(student)\n"
   ]
  },
  {
   "cell_type": "code",
   "execution_count": null,
   "id": "804a4df3-f875-4c1d-b0d5-c83060b4ad87",
   "metadata": {},
   "outputs": [],
   "source": []
  }
 ],
 "metadata": {
  "kernelspec": {
   "display_name": "Python 3 (ipykernel)",
   "language": "python",
   "name": "python3"
  },
  "language_info": {
   "codemirror_mode": {
    "name": "ipython",
    "version": 3
   },
   "file_extension": ".py",
   "mimetype": "text/x-python",
   "name": "python",
   "nbconvert_exporter": "python",
   "pygments_lexer": "ipython3",
   "version": "3.12.4"
  }
 },
 "nbformat": 4,
 "nbformat_minor": 5
}
