{
 "cells": [
  {
   "cell_type": "code",
   "execution_count": 1,
   "id": "c798abe5-195a-44e9-bf97-8508acc26055",
   "metadata": {},
   "outputs": [],
   "source": [
    "#Task 1 ( Whatapp through python)"
   ]
  },
  {
   "cell_type": "code",
   "execution_count": 2,
   "id": "6427a3ae-7aa1-41f1-8e67-b908b77ae9e1",
   "metadata": {},
   "outputs": [],
   "source": [
    "import pywhatkit"
   ]
  },
  {
   "cell_type": "code",
   "execution_count": 3,
   "id": "00d73133-322d-4a87-882d-ba643e233a18",
   "metadata": {},
   "outputs": [],
   "source": [
    "pywhatkit.sendwhatmsg_instantly(\"+919693251345\",\"Hello Bro\")"
   ]
  },
  {
   "cell_type": "code",
   "execution_count": 4,
   "id": "0110c6cd-dab3-4c8b-8a16-9f45550ba979",
   "metadata": {},
   "outputs": [],
   "source": [
    "#Taks 2 (Send email)\n"
   ]
  },
  {
   "cell_type": "code",
   "execution_count": 19,
   "id": "0e678c58-ae18-4ecf-8fca-c53b7211f798",
   "metadata": {},
   "outputs": [],
   "source": [
    "import smtplib #this is email sending protocol"
   ]
  },
  {
   "cell_type": "code",
   "execution_count": 20,
   "id": "f714e3b5-6e06-41ce-8cc9-499ad2112dad",
   "metadata": {},
   "outputs": [],
   "source": [
    "server=smtplib.SMTP('smtp.gmail.com',587)  # connection stablishing"
   ]
  },
  {
   "cell_type": "code",
   "execution_count": 21,
   "id": "2ea9f13c-358a-4866-ae7b-30598efa3f7c",
   "metadata": {},
   "outputs": [
    {
     "data": {
      "text/plain": [
       "(220, b'2.0.0 Ready to start TLS')"
      ]
     },
     "execution_count": 21,
     "metadata": {},
     "output_type": "execute_result"
    }
   ],
   "source": [
    "server.starttls()   #securing connection by two ways one is tls or ssh"
   ]
  },
  {
   "cell_type": "code",
   "execution_count": 24,
   "id": "5887a29e-2293-4d6e-a373-cce45ba7d34b",
   "metadata": {},
   "outputs": [],
   "source": [
    "sender='md.mushahidansari@gmail.com'\n",
    "receiver='guddu2120@gmail.com'\n",
    "password='qjkorrkyvdimcghx'\n",
    "msg='Hello is using python'\n"
   ]
  },
  {
   "cell_type": "code",
   "execution_count": 25,
   "id": "1c6680df-849a-4ce4-a96d-d0f17261325e",
   "metadata": {},
   "outputs": [
    {
     "data": {
      "text/plain": [
       "(503,\n",
       " b'5.5.1 MAIL first. A mail transaction protocol command was issued out of\\n5.5.1 sequence. For more information, go to\\n5.5.1  https://support.google.com/a/answer/3221692 and review RFC 5321\\n5.5.1 specifications. 98e67ed59e1d1-2c91ce6e7easm9189506a91.25 - gsmtp')"
      ]
     },
     "execution_count": 25,
     "metadata": {},
     "output_type": "execute_result"
    }
   ],
   "source": [
    "server.login(sender,password)     #Authentication "
   ]
  },
  {
   "cell_type": "code",
   "execution_count": 26,
   "id": "0dfc9969-66ea-4de6-be2a-824c7f3c3013",
   "metadata": {},
   "outputs": [
    {
     "data": {
      "text/plain": [
       "{}"
      ]
     },
     "execution_count": 26,
     "metadata": {},
     "output_type": "execute_result"
    }
   ],
   "source": [
    "server.sendmail(sender,receiver,msg)  #Sending "
   ]
  },
  {
   "cell_type": "code",
   "execution_count": 27,
   "id": "39d816f0-19a9-4924-ad83-80fa4c6914a8",
   "metadata": {},
   "outputs": [],
   "source": [
    "# Task (Speaker Speak using python script)"
   ]
  },
  {
   "cell_type": "code",
   "execution_count": 1,
   "id": "261234ac-1a95-42d7-bd19-ad01c484eb57",
   "metadata": {},
   "outputs": [],
   "source": [
    "import pyttsx3"
   ]
  },
  {
   "cell_type": "code",
   "execution_count": 8,
   "id": "be37dd2f-c17e-4492-9b94-927e7ca4b407",
   "metadata": {},
   "outputs": [],
   "source": [
    "text_speech=pyttsx3.init()"
   ]
  },
  {
   "cell_type": "code",
   "execution_count": 9,
   "id": "075594f5-d179-4818-b160-cf97510d2e0a",
   "metadata": {},
   "outputs": [],
   "source": [
    "text=\"Hello , Welcome to jupyter\""
   ]
  },
  {
   "cell_type": "code",
   "execution_count": 10,
   "id": "8949b9f7-b021-4dd9-b643-0d1c401f1a6c",
   "metadata": {},
   "outputs": [],
   "source": [
    "text_speech.say(text)"
   ]
  },
  {
   "cell_type": "code",
   "execution_count": 11,
   "id": "43e30a23-b3c2-4094-9bf4-44ec0020236c",
   "metadata": {},
   "outputs": [],
   "source": [
    "text_speech.runAndWait()"
   ]
  },
  {
   "cell_type": "code",
   "execution_count": 1,
   "id": "1030bb20-d071-46a3-ba4e-bdeb2f32dcdc",
   "metadata": {},
   "outputs": [],
   "source": [
    "#Task ( Post on instagram)"
   ]
  },
  {
   "cell_type": "code",
   "execution_count": 8,
   "id": "c6b271aa-c473-4ac6-b014-79257a229463",
   "metadata": {},
   "outputs": [],
   "source": [
    "import smtplib\n",
    "from email.mime.multipart import MIMEMultipart"
   ]
  },
  {
   "cell_type": "code",
   "execution_count": 10,
   "id": "104716bd-acf3-439b-8829-3f4987353f30",
   "metadata": {},
   "outputs": [],
   "source": [
    "from email.mime.text import MIMEText"
   ]
  },
  {
   "cell_type": "code",
   "execution_count": 11,
   "id": "cf79b570-0583-4255-b619-eb835858928b",
   "metadata": {},
   "outputs": [],
   "source": [
    "from email.mime.application import MIMEApplication"
   ]
  },
  {
   "cell_type": "code",
   "execution_count": 13,
   "id": "c56c5774-2fb0-493e-bd0b-c56d742c8300",
   "metadata": {},
   "outputs": [],
   "source": [
    "my_email='md.mushahidansari@gmail.com'\n",
    "receiver_mail='mdmushahid155@gmail.com'\n",
    "password='hello'\n"
   ]
  },
  {
   "cell_type": "code",
   "execution_count": 14,
   "id": "b5861b40-d93f-44f4-9737-93e97aa35956",
   "metadata": {},
   "outputs": [],
   "source": [
    "s=smtplib.SMTP('smtp.gmail.com',587)"
   ]
  },
  {
   "cell_type": "code",
   "execution_count": 15,
   "id": "1efee92d-da4d-477f-83d3-96efe5fb46d4",
   "metadata": {},
   "outputs": [
    {
     "data": {
      "text/plain": [
       "(220, b'2.0.0 Ready to start TLS')"
      ]
     },
     "execution_count": 15,
     "metadata": {},
     "output_type": "execute_result"
    }
   ],
   "source": [
    "s.starttls()"
   ]
  },
  {
   "cell_type": "code",
   "execution_count": 17,
   "id": "1e691e49-ed7c-48c3-afa4-2884d9712f9c",
   "metadata": {},
   "outputs": [
    {
     "data": {
      "text/plain": [
       "(235, b'2.7.0 Accepted')"
      ]
     },
     "execution_count": 17,
     "metadata": {},
     "output_type": "execute_result"
    }
   ],
   "source": [
    "s.login(my_email,\"asuh tugc chgo vjyj\")\n",
    "        "
   ]
  },
  {
   "cell_type": "code",
   "execution_count": 18,
   "id": "88a2c3a7-652c-43ee-835e-45c26ad13e9a",
   "metadata": {},
   "outputs": [],
   "source": [
    "msg=MIMEMultipart()\n",
    "msg['From']=my_email"
   ]
  },
  {
   "cell_type": "code",
   "execution_count": 19,
   "id": "d8d84b06-d901-41b7-b9ef-b4df70c7fbee",
   "metadata": {},
   "outputs": [],
   "source": [
    "msg['To']=receiver_mail\n",
    "msg['Subject']=\"Testing the text email\"\n",
    "message=\"Hello , is from python\""
   ]
  },
  {
   "cell_type": "code",
   "execution_count": 20,
   "id": "6d552450-115b-4dda-b436-77e6c5687c8f",
   "metadata": {},
   "outputs": [],
   "source": [
    "msg.attach(MIMEText(message,'plain'))\n",
    "with open(\"truck.jpg\",'rb') as file"
   ]
  },
  {
   "cell_type": "code",
   "execution_count": 21,
   "id": "94deb458-52ce-46d3-ad01-1d0efb79945c",
   "metadata": {},
   "outputs": [
    {
     "data": {
      "text/plain": [
       "{}"
      ]
     },
     "execution_count": 21,
     "metadata": {},
     "output_type": "execute_result"
    }
   ],
   "source": [
    "s.send_message(msg)"
   ]
  },
  {
   "cell_type": "code",
   "execution_count": null,
   "id": "ac896585-2c84-4b84-85bf-fcd075e3d415",
   "metadata": {},
   "outputs": [],
   "source": []
  }
 ],
 "metadata": {
  "kernelspec": {
   "display_name": "Python 3 (ipykernel)",
   "language": "python",
   "name": "python3"
  },
  "language_info": {
   "codemirror_mode": {
    "name": "ipython",
    "version": 3
   },
   "file_extension": ".py",
   "mimetype": "text/x-python",
   "name": "python",
   "nbconvert_exporter": "python",
   "pygments_lexer": "ipython3",
   "version": "3.12.4"
  }
 },
 "nbformat": 4,
 "nbformat_minor": 5
}
